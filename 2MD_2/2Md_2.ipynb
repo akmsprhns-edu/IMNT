{
 "cells": [
  {
   "cell_type": "code",
   "execution_count": null,
   "metadata": {
    "scrolled": true
   },
   "outputs": [],
   "source": [
    "import numpy as np\n",
    "import tensorflow as tf\n",
    "import pandas as pd\n",
    "from sklearn import preprocessing\n",
    "data = pd.read_csv(\"wineTypes14.csv\", sep=';') \n",
    "\n",
    "atributes = ['fixed_acidity','volatile_acidity','citric_acid','residual_sugar','chlorides','free_sulfur_dioxide','total_sulfur_dioxide','density','pH','sulphates','alcohol']\n",
    "data[atributes] = preprocessing.MinMaxScaler().fit_transform(data[atributes])\n",
    "\n",
    "data_train = data[data.index % 5 != 0].reset_index(drop = True)\n",
    "data_validation = data[data.index % 5 == 0].reset_index(drop = True)\n",
    "\n",
    "data_train_x = data_train[atributes].to_numpy()\n",
    "data_validation_x = data_validation[atributes].to_numpy()\n",
    "\n",
    "data_train_y = pd.get_dummies(data_train['type'], prefix='type').to_numpy()\n",
    "data_validation_y = pd.get_dummies(data_validation['type'], prefix='type').to_numpy()\n",
    "#data_train_y = data_train[['type']].to_numpy()\n",
    "#data_validation_y = data_validation[['type']].to_numpy()\n",
    "#data_train_y = preprocessing.MinMaxScaler().fit_transform(data_train_y)\n",
    "#data_validation_y = preprocessing.MinMaxScaler().fit_transform(data_validation_y)\n",
    "\n",
    "\n",
    "np.set_printoptions(threshold = 6)\n",
    "print(data_train_x)\n",
    "print(data_train_y)\n",
    "print(data_validation_x)\n",
    "print(data_validation_y)"
   ]
  },
  {
   "cell_type": "code",
   "execution_count": null,
   "metadata": {},
   "outputs": [],
   "source": [
    "print(len(data_train_x[0]))\n",
    "print(len(data_train_y[0]))"
   ]
  },
  {
   "cell_type": "code",
   "execution_count": null,
   "metadata": {
    "scrolled": true
   },
   "outputs": [],
   "source": [
    "model = tf.keras.models.Sequential()\n",
    "model.add(tf.keras.layers.Dense(5, activation='sigmoid', input_shape = (len(data_train_x[0]), )))\n",
    "model.add(tf.keras.layers.Dense(len(data_train_y[0]), activation='softmax'))\n",
    "\n",
    "model.compile(optimizer='adam', loss='categorical_crossentropy', metrics=['categorical_accuracy'])\n",
    "        \n",
    "history = model.fit(data_train_x, data_train_y, epochs=300, validation_data=(data_validation_x, data_validation_y))\n",
    "\n",
    "predictions = model.predict(data_validation_x)"
   ]
  },
  {
   "cell_type": "code",
   "execution_count": null,
   "metadata": {},
   "outputs": [],
   "source": [
    "import matplotlib.pyplot as plt\n",
    "history.history.keys()\n",
    "loss = history.history['loss']\n",
    "val_loss = history.history['val_loss']\n",
    "epochs = range(1, len(loss) + 1)\n",
    "\n",
    "plt.figure(figsize=(15,8))\n",
    "plt.plot(epochs, loss, 'r', label = 'Training loss')\n",
    "plt.plot(epochs, val_loss, 'b', label = 'Validation loss')\n",
    "plt.title('Training and validation loss')\n",
    "plt.xlabel('Epochs')\n",
    "plt.ylabel('Loss')\n",
    "plt.legend()\n",
    "\n",
    "print(f'minimal validation loss = {min(val_loss)}' )\n"
   ]
  },
  {
   "cell_type": "code",
   "execution_count": null,
   "metadata": {},
   "outputs": [],
   "source": [
    "history.history.keys()\n",
    "accuracy = history.history['categorical_accuracy']\n",
    "val_accuracy = history.history['val_categorical_accuracy']\n",
    "epochs = range(1, len(accuracy) + 1)\n",
    "\n",
    "plt.figure(figsize=(15,8))\n",
    "plt.plot(epochs, accuracy, 'r', label = 'Training accuracy')\n",
    "plt.plot(epochs, val_accuracy, 'b', label = 'Validation accuracy')\n",
    "plt.title('Training and validation accuracy')\n",
    "plt.xlabel('Epochs')\n",
    "plt.ylabel('Loss')\n",
    "plt.legend()\n",
    "\n",
    "print(f'maximal validation accuracy = {max(val_accuracy)}' )\n"
   ]
  },
  {
   "cell_type": "code",
   "execution_count": null,
   "metadata": {},
   "outputs": [],
   "source": [
    "np.set_printoptions(precision=3, suppress=True)\n",
    "for di in range(0, len(data_validation_y)):\n",
    "    print(\n",
    "        str(data_validation_y[di])+\"\\t\"+\n",
    "        str(predictions[di])\n",
    "\n",
    "    )"
   ]
  },
  {
   "cell_type": "code",
   "execution_count": null,
   "metadata": {},
   "outputs": [],
   "source": []
  },
  {
   "cell_type": "code",
   "execution_count": null,
   "metadata": {},
   "outputs": [],
   "source": []
  }
 ],
 "metadata": {
  "kernelspec": {
   "display_name": "Python 3",
   "language": "python",
   "name": "python3"
  },
  "language_info": {
   "codemirror_mode": {
    "name": "ipython",
    "version": 3
   },
   "file_extension": ".py",
   "mimetype": "text/x-python",
   "name": "python",
   "nbconvert_exporter": "python",
   "pygments_lexer": "ipython3",
   "version": "3.8.6"
  }
 },
 "nbformat": 4,
 "nbformat_minor": 4
}
